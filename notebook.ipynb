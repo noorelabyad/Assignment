{
 "cells": [
  {
   "cell_type": "markdown",
   "id": "27c905ab-9643-40a6-bc73-03584946777b",
   "metadata": {},
   "source": [
    "# My Jupyter Notebook on IBM Watson Studio"
   ]
  },
  {
   "cell_type": "markdown",
   "id": "42c22ca9-ce9d-40e6-8aae-bb571f2d0250",
   "metadata": {},
   "source": [
    "**Noor Elabyad**\n",
    "\n",
    "Electronics Engineering Student"
   ]
  },
  {
   "cell_type": "markdown",
   "id": "69e81e0c-9649-433a-8af4-077937c784d0",
   "metadata": {},
   "source": [
    "*I am interested in Data Science because I am most fascinated by the breathtaking beauty and the powerful secrets data can possess,and I seek to learn how to uncover all there is to know about data and to make use of that knowledge in the benefit of mankind.*"
   ]
  },
  {
   "cell_type": "markdown",
   "id": "18b1fec9-7538-47de-998b-412d9ffcca4f",
   "metadata": {},
   "source": [
    "### The code in the following cell prints \"Positive\" if x is greater than zero, \"Negative if it is less than zero, and \"Zero\" if it is equal to zero. "
   ]
  },
  {
   "cell_type": "code",
   "execution_count": 1,
   "id": "eecb0075-c5a0-467c-a733-69660e70c1fe",
   "metadata": {},
   "outputs": [
    {
     "name": "stdout",
     "output_type": "stream",
     "text": [
      "Negative\n"
     ]
    }
   ],
   "source": [
    "x=-2\n",
    "if x>0:\n",
    "    print(\"Positive\")\n",
    "elif x<0 :\n",
    "    print (\"Negative\")\n",
    "else:\n",
    "    print(\"Zero\")"
   ]
  },
  {
   "cell_type": "markdown",
   "id": "8abe4b47-31db-4bb9-b8af-cbac0f25dc6b",
   "metadata": {},
   "source": [
    "| This | is  | a   |table|\n",
    "|---|----|----|---|\n",
    "|1|2|3|4|\n",
    "|5|6|7|8|\n",
    "\n",
    "\n",
    "[Click to go to Google](https://www.google.com)\n",
    "\n",
    "* These\n",
    "* are\n",
    "* bullet\n",
    "* points.\n",
    "\n",
    "1. This\n",
    "2. is a numbered\n",
    "3. list.\n"
   ]
  },
  {
   "cell_type": "code",
   "execution_count": null,
   "id": "df8921b6-7e75-468a-bb27-73e36b48c5ce",
   "metadata": {},
   "outputs": [],
   "source": []
  }
 ],
 "metadata": {
  "kernelspec": {
   "display_name": "Python",
   "language": "python",
   "name": "conda-env-python-py"
  },
  "language_info": {
   "codemirror_mode": {
    "name": "ipython",
    "version": 3
   },
   "file_extension": ".py",
   "mimetype": "text/x-python",
   "name": "python",
   "nbconvert_exporter": "python",
   "pygments_lexer": "ipython3",
   "version": "3.7.12"
  }
 },
 "nbformat": 4,
 "nbformat_minor": 5
}
